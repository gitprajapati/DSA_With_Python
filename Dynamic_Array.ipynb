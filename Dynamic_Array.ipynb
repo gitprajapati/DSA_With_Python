{
  "cells": [
    {
      "cell_type": "code",
      "execution_count": 8,
      "metadata": {
        "id": "VdtcZ3TLu0PQ"
      },
      "outputs": [],
      "source": [
        "import ctypes"
      ]
    },
    {
      "cell_type": "code",
      "execution_count": 412,
      "metadata": {
        "id": "2qPiMZlAKFIN"
      },
      "outputs": [],
      "source": [
        "class arr:\n",
        "\n",
        "  def __init__(self):\n",
        "    self.__n = 0\n",
        "    self.__capacity = 1\n",
        "    self.__A = self.__make_array(self.__capacity)\n",
        "\n",
        "  def __len__(self):\n",
        "    return self.__n\n",
        "\n",
        "  def __make_array(self,capacity):\n",
        "    return (capacity * ctypes.py_object)()\n",
        "\n",
        "  def __resize(self,new_capacity):\n",
        "    B = self.__make_array(new_capacity)\n",
        "    self.__capacity = new_capacity\n",
        "    for i in range(self.__n):\n",
        "      B[i]=self.__A[i]\n",
        "    self.__A = B\n",
        "\n",
        "  def __str__(self):\n",
        "      result = ''\n",
        "      for i in range(self.__n):\n",
        "          result = result + str(self.__A[i]) + ','\n",
        "      return '[' + result[:-1] + ']'\n",
        "\n",
        "\n",
        "  def append(self,x):\n",
        "    if self.__n == self.__capacity:\n",
        "      self.__resize(self.__capacity*2)\n",
        "    self.__A[self.__n] = x\n",
        "    self.__n +=1\n",
        "\n",
        "  def index(self,x):\n",
        "    for i in range(self.__n):\n",
        "      if x == self.__A[i]:\n",
        "        return i\n",
        "    return \"Item not found\"\n",
        "\n",
        "  def pop(self):\n",
        "    if self.__n == 0:\n",
        "      return \"Empty List\"\n",
        "    print(self.__A[self.__n-1])\n",
        "    self.__n = self.__n - 1\n",
        "\n",
        "  def clear(self):\n",
        "    self.__n = 0\n",
        "    self.__capacity = 1\n",
        "\n",
        "  def __getitem__(self,index):\n",
        "    if 0<= index < self.__n:\n",
        "      return self.__A[index]\n",
        "    else:\n",
        "      return 'IndexError'\n",
        "\n",
        "  def __delitem__(self,index):\n",
        "    if self.__n != 0:\n",
        "      if 0 <= index < self.__n:\n",
        "        for i in range(index,self.__n-1):\n",
        "          self.__A[i] = self.__A[i+1]\n",
        "        self.__n -=1\n",
        "\n",
        "\n",
        "  def insert(self,index,item):\n",
        "    # check size of array\n",
        "    if self.__n == self.__capacity:\n",
        "      self.__resize(self.__capacity*2)\n",
        "\n",
        "    for i in range(self.__n,index,-1):\n",
        "\n",
        "      self.__A[i] = self.__A[i-1]\n",
        "    self.__A[index] = item\n",
        "    self.__n +=1\n",
        "\n",
        "\n",
        "  def find(self,item):\n",
        "    for i in range(self.__n):\n",
        "      if self.__A[i] == item:\n",
        "        return i\n",
        "    return \"Item not found.\"\n",
        "\n",
        "\n",
        "  def remove(self,item):\n",
        "    index = self.find(item)\n",
        "    if type(index) == int:\n",
        "      self.__delitem__(index)\n",
        "    else:\n",
        "      return \"Item not found.\""
      ]
    },
    {
      "cell_type": "code",
      "execution_count": 413,
      "metadata": {
        "id": "LnfSOq5_2Wy-"
      },
      "outputs": [],
      "source": [
        "a=arr()"
      ]
    },
    {
      "cell_type": "code",
      "execution_count": 414,
      "metadata": {
        "colab": {
          "base_uri": "https://localhost:8080/"
        },
        "id": "_1Fjd6OP2Zoj",
        "outputId": "3cfe065c-da95-453f-9363-7f02f437637b"
      },
      "outputs": [
        {
          "data": {
            "text/plain": [
              "0"
            ]
          },
          "execution_count": 414,
          "metadata": {},
          "output_type": "execute_result"
        }
      ],
      "source": [
        "len(a)"
      ]
    },
    {
      "cell_type": "code",
      "execution_count": 415,
      "metadata": {
        "id": "P07Ysizi3U-6"
      },
      "outputs": [],
      "source": [
        "a.append('a')\n",
        "a.append('hello')\n",
        "a.append(3)"
      ]
    },
    {
      "cell_type": "code",
      "execution_count": 416,
      "metadata": {
        "colab": {
          "base_uri": "https://localhost:8080/"
        },
        "id": "52CaRjyP813N",
        "outputId": "8b452e85-6d65-4bf6-97b6-c7101b1755bc"
      },
      "outputs": [
        {
          "data": {
            "text/plain": [
              "3"
            ]
          },
          "execution_count": 416,
          "metadata": {},
          "output_type": "execute_result"
        }
      ],
      "source": [
        "len(a)"
      ]
    },
    {
      "cell_type": "code",
      "execution_count": 417,
      "metadata": {
        "colab": {
          "base_uri": "https://localhost:8080/"
        },
        "id": "L3Ex6TYiHiUK",
        "outputId": "d54cfeea-d99a-4974-e8d5-dc77d7052f7f"
      },
      "outputs": [
        {
          "data": {
            "text/plain": [
              "2"
            ]
          },
          "execution_count": 417,
          "metadata": {},
          "output_type": "execute_result"
        }
      ],
      "source": [
        "a.index(3)"
      ]
    },
    {
      "cell_type": "code",
      "execution_count": 418,
      "metadata": {
        "colab": {
          "base_uri": "https://localhost:8080/"
        },
        "id": "C2WMr9TucTSU",
        "outputId": "9ede0e9b-9410-486d-c3d4-74438c2a0fed"
      },
      "outputs": [
        {
          "data": {
            "text/plain": [
              "3"
            ]
          },
          "execution_count": 418,
          "metadata": {},
          "output_type": "execute_result"
        }
      ],
      "source": [
        "a[2]"
      ]
    },
    {
      "cell_type": "code",
      "execution_count": 419,
      "metadata": {
        "id": "dumSa3PWcVeO"
      },
      "outputs": [],
      "source": [
        "a.insert(1,'abc')"
      ]
    },
    {
      "cell_type": "code",
      "execution_count": 420,
      "metadata": {
        "id": "Dkkf9553vkty"
      },
      "outputs": [],
      "source": [
        "a.insert(2,'aaaabc')"
      ]
    },
    {
      "cell_type": "code",
      "execution_count": 421,
      "metadata": {
        "colab": {
          "base_uri": "https://localhost:8080/"
        },
        "id": "d1JaQAZgKPM-",
        "outputId": "9e73575b-fe2d-403c-edf2-f06db57604ee"
      },
      "outputs": [
        {
          "name": "stdout",
          "output_type": "stream",
          "text": [
            "[a,abc,aaaabc,hello,3]\n"
          ]
        }
      ],
      "source": [
        "print(a)"
      ]
    },
    {
      "cell_type": "code",
      "execution_count": 422,
      "metadata": {
        "id": "F6h1wsmVxsKZ"
      },
      "outputs": [],
      "source": [
        "del a[0]"
      ]
    },
    {
      "cell_type": "code",
      "execution_count": 423,
      "metadata": {
        "colab": {
          "base_uri": "https://localhost:8080/"
        },
        "id": "JL-UxFGUa6hv",
        "outputId": "c74ffb69-f178-482f-b3a8-f0e98ffa9d2b"
      },
      "outputs": [
        {
          "name": "stdout",
          "output_type": "stream",
          "text": [
            "[abc,aaaabc,hello,3]\n"
          ]
        }
      ],
      "source": [
        "print(a)"
      ]
    },
    {
      "cell_type": "code",
      "execution_count": 426,
      "metadata": {
        "colab": {
          "base_uri": "https://localhost:8080/",
          "height": 35
        },
        "id": "2hQHZwGm0g9g",
        "outputId": "ba32025d-65c3-41f2-a601-293c514c4242"
      },
      "outputs": [
        {
          "data": {
            "application/vnd.google.colaboratory.intrinsic+json": {
              "type": "string"
            },
            "text/plain": [
              "'Item not found.'"
            ]
          },
          "execution_count": 426,
          "metadata": {},
          "output_type": "execute_result"
        }
      ],
      "source": [
        "a.remove('www')"
      ]
    },
    {
      "cell_type": "code",
      "execution_count": 427,
      "metadata": {
        "colab": {
          "base_uri": "https://localhost:8080/"
        },
        "id": "E_E-gHVz0kYx",
        "outputId": "477de332-d0a3-4e66-d8d6-acbae0213614"
      },
      "outputs": [
        {
          "name": "stdout",
          "output_type": "stream",
          "text": [
            "[abc,aaaabc,3]\n"
          ]
        }
      ],
      "source": [
        "print(a)"
      ]
    }
  ],
  "metadata": {
    "colab": {
      "provenance": []
    },
    "kernelspec": {
      "display_name": "Python 3",
      "name": "python3"
    },
    "language_info": {
      "name": "python"
    }
  },
  "nbformat": 4,
  "nbformat_minor": 0
}
